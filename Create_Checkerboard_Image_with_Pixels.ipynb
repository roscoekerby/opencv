{
  "nbformat": 4,
  "nbformat_minor": 0,
  "metadata": {
    "colab": {
      "provenance": [],
      "authorship_tag": "ABX9TyMUybqkrEIC20rQceDp9UGr",
      "include_colab_link": true
    },
    "kernelspec": {
      "name": "python3",
      "display_name": "Python 3"
    },
    "language_info": {
      "name": "python"
    }
  },
  "cells": [
    {
      "cell_type": "markdown",
      "metadata": {
        "id": "view-in-github",
        "colab_type": "text"
      },
      "source": [
        "<a href=\"https://colab.research.google.com/github/roscoekerby/opencv/blob/main/Create_Checkerboard_Image_with_Pixels.ipynb\" target=\"_parent\"><img src=\"https://colab.research.google.com/assets/colab-badge.svg\" alt=\"Open In Colab\"/></a>"
      ]
    },
    {
      "cell_type": "code",
      "execution_count": null,
      "metadata": {
        "id": "dR1GvktVJ6GM"
      },
      "outputs": [],
      "source": [
        "from PIL import Image\n",
        "\n",
        "def create_checkerboard():\n",
        "    # Define image size\n",
        "    width, height = 3, 3\n",
        "    # Create a new blank image with white background\n",
        "    image = Image.new('1', (width, height), 1)\n",
        "\n",
        "    # Access the pixel data\n",
        "    pixels = image.load()\n",
        "\n",
        "    # Set pixels according to checkerboard pattern\n",
        "    for x in range(width):\n",
        "        for y in range(height):\n",
        "            if (x + y) % 2 == 0:\n",
        "                pixels[x, y] = 0  # Black\n",
        "\n",
        "    # Save the image\n",
        "    image.save('checkerboard_3x3.png')\n",
        "\n",
        "# Call the function to create and save the image\n",
        "create_checkerboard()"
      ]
    },
    {
      "cell_type": "code",
      "source": [
        "from PIL import Image\n",
        "\n",
        "def create_checkerboard(size):\n",
        "    # Create a new blank image with white background\n",
        "    image = Image.new('1', (size, size), 1)\n",
        "\n",
        "    # Access the pixel data\n",
        "    pixels = image.load()\n",
        "\n",
        "    # Set pixels according to checkerboard pattern\n",
        "    for x in range(size):\n",
        "        for y in range(size):\n",
        "            if (x + y) % 2 == 0:\n",
        "                pixels[x, y] = 0  # Black\n",
        "\n",
        "    # Save the image\n",
        "    image.save(f'checkerboard_{size}x{size}.png')\n",
        "    print(f\"Checkerboard {size}x{size} created and saved.\")\n",
        "\n",
        "# Ask user for the size of the checkerboard\n",
        "size = int(input(\"Enter the size for the checkerboard (e.g., 5 for a 5x5 board): \"))\n",
        "\n",
        "# Call the function to create and save the image\n",
        "create_checkerboard(size)\n"
      ],
      "metadata": {
        "colab": {
          "base_uri": "https://localhost:8080/"
        },
        "id": "6MkR_JwOMMq7",
        "outputId": "c51b4a68-adc6-4ca3-a5c9-ab96106b93b7"
      },
      "execution_count": null,
      "outputs": [
        {
          "output_type": "stream",
          "name": "stdout",
          "text": [
            "Enter the size for the checkerboard (e.g., 5 for a 5x5 board): 64\n",
            "Checkerboard 64x64 created and saved.\n"
          ]
        }
      ]
    },
    {
      "cell_type": "code",
      "source": [
        "from PIL import Image\n",
        "\n",
        "def create_checkerboard(total_size, square_size):\n",
        "    # Ensure that the total size is divisible by the square size\n",
        "    if total_size % square_size != 0:\n",
        "        print(\"Invalid size: The total size must be divisible by the square size.\")\n",
        "        return\n",
        "\n",
        "    # Create a new blank image with white background\n",
        "    image = Image.new('1', (total_size, total_size), 1)\n",
        "\n",
        "    # Access the pixel data\n",
        "    pixels = image.load()\n",
        "\n",
        "    # Set pixels according to checkerboard pattern\n",
        "    for x in range(total_size):\n",
        "        for y in range(total_size):\n",
        "            # Determine the color based on the square division\n",
        "            if ((x // square_size) + (y // square_size)) % 2 == 0:\n",
        "                pixels[x, y] = 0  # Black\n",
        "\n",
        "    # Save the image\n",
        "    image.save(f'checkerboard_{total_size}x{total_size}.png')\n",
        "    print(f\"Checkerboard {total_size}x{total_size} created and saved, with each square being {square_size}x{square_size} pixels.\")\n",
        "\n",
        "# Ask user for the total size and square size of the checkerboard\n",
        "total_size = int(input(\"Enter the total size for the checkerboard (e.g., 9 for a 9x9 board): \"))\n",
        "square_size = int(input(\"Enter the size of each square (e.g., 3 for each square being 3x3 pixels): \"))\n",
        "\n",
        "# Call the function to create and save the image\n",
        "create_checkerboard(total_size, square_size)\n"
      ],
      "metadata": {
        "colab": {
          "base_uri": "https://localhost:8080/"
        },
        "id": "75IlbdAOM04D",
        "outputId": "31856df8-7cc3-446b-a56e-cbfa0ae8d53c"
      },
      "execution_count": null,
      "outputs": [
        {
          "output_type": "stream",
          "name": "stdout",
          "text": [
            "Enter the total size for the checkerboard (e.g., 9 for a 9x9 board): 64\n",
            "Enter the size of each square (e.g., 3 for each square being 3x3 pixels): 7\n",
            "Invalid size: The total size must be divisible by the square size.\n"
          ]
        }
      ]
    }
  ]
}